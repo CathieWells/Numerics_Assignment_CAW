{
 "cells": [
  {
   "cell_type": "code",
   "execution_count": 3,
   "metadata": {},
   "outputs": [
    {
     "name": "stdout",
     "output_type": "stream",
     "text": [
      "[[2. 1. 2. 1. 2.]\n",
      " [0. 0. 0. 0. 0.]\n",
      " [0. 0. 0. 0. 0.]\n",
      " [0. 0. 0. 0. 0.]\n",
      " [0. 0. 0. 0. 0.]]\n"
     ]
    },
    {
     "data": {
      "text/plain": [
       "array([[2. , 1. , 2. , 1. , 2. ],\n",
       "       [0. , 1.5, 1.5, 1.5, 1.5],\n",
       "       [0. , 0. , 1.5, 1.5, 1.5],\n",
       "       [0. , 0. , 0. , 0. , 0. ],\n",
       "       [0. , 0. , 0. , 0. , 0. ]])"
      ]
     },
     "execution_count": 3,
     "metadata": {},
     "output_type": "execute_result"
    }
   ],
   "source": [
    "import numpy as np\n",
    "def FTBS1(initial_array,diffx,difft,windspeed):\n",
    "    c=difft*windspeed/diffx\n",
    "    q=np.zeros((5,5))\n",
    "    q[0][0]=initial_array[0]\n",
    "    q[0][1]=initial_array[1]\n",
    "    q[0][2]=initial_array[2]\n",
    "    q[0][3]=initial_array[3]\n",
    "    q[0][4]=initial_array[4]\n",
    "    print (q)\n",
    "    q[1][1]=q[0][1]-c*(q[0][1]-q[0][0])\n",
    "    q[1][2]=q[0][2]-c*(q[0][2]-q[0][1])\n",
    "    q[1][3]=q[0][3]-c*(q[0][3]-q[0][2])\n",
    "    q[1][4]=q[0][4]-c*(q[0][4]-q[0][3])\n",
    "    q[2][2]=q[1][2]-c*(q[1][2]-q[1][1])\n",
    "    q[2][3]=q[1][3]-c*(q[1][3]-q[1][2])\n",
    "    q[2][4]=q[1][4]-c*(q[1][4]-q[1][3])\n",
    "    \n",
    "    return q\n",
    "FTBS1([2,1,2,1,2],1,0.1,5)"
   ]
  },
  {
   "cell_type": "code",
   "execution_count": 4,
   "metadata": {},
   "outputs": [
    {
     "data": {
      "text/plain": [
       "array([[2.   , 4.   , 7.   , 3.   , 6.   , 8.   ],\n",
       "       [0.   , 3.   , 5.5  , 5.   , 4.5  , 7.   ],\n",
       "       [0.   , 0.   , 4.25 , 5.25 , 4.75 , 5.75 ],\n",
       "       [0.   , 0.   , 0.   , 4.75 , 5.   , 5.25 ],\n",
       "       [0.   , 0.   , 0.   , 0.   , 4.875, 5.125],\n",
       "       [0.   , 0.   , 0.   , 0.   , 0.   , 5.   ]])"
      ]
     },
     "execution_count": 4,
     "metadata": {},
     "output_type": "execute_result"
    }
   ],
   "source": [
    "import numpy as np\n",
    "def FTBS2(initial_array,diffx,difft,windspeed):\n",
    "    c=difft*windspeed/diffx\n",
    "    m=len(initial_array)\n",
    "    q=np.zeros((m,m))\n",
    "    for i in range (0,m):\n",
    "        q[0][i]=initial_array[i]\n",
    "    for k in range (1,m):\n",
    "        for h in range (k,m):\n",
    "            q[k][h]=q[k-1][h]-c*(q[k-1][h]-q[k-1][h-1])\n",
    "    return q\n",
    "FTBS2([2,4,7,3,6,8],1,0.1,5)"
   ]
  },
  {
   "cell_type": "code",
   "execution_count": 8,
   "metadata": {},
   "outputs": [
    {
     "data": {
      "image/png": "[encoded data removed]",
      "text/plain": [
       "<Figure size 432x288 with 1 Axes>"
      ]
     },
     "metadata": {
      "needs_background": "light"
     },
     "output_type": "display_data"
    },
    {
     "data": {
      "image/png": "[encoded data removed]",
      "text/plain": [
       "<Figure size 432x288 with 1 Axes>"
      ]
     },
     "metadata": {
      "needs_background": "light"
     },
     "output_type": "display_data"
    }
   ],
   "source": [
    "#Import necessary modules.\n",
    "import numpy as np\n",
    "import matplotlib.pyplot as plt\n",
    "#Create function to call in initial values for q and elements for Courant number.\n",
    "def drw(initial_array,diffx,difft,windspeed):\n",
    "#Calculate Courant number.\n",
    "    c=difft*windspeed/diffx\n",
    "#Work out how much data can be generated, based on amount in input.\n",
    "    m=len(initial_array)\n",
    "#Set up array of zeros to fill.\n",
    "    q=np.zeros((m,m))\n",
    "#Generate data based on FTBS scheme.\n",
    "    for i in range (0,m):\n",
    "        q[0][i]=initial_array[i]\n",
    "    for k in range (1,m):\n",
    "        for h in range (k,m):\n",
    "            q[k][h]=q[k-1][h]-c*(q[k-1][h]-q[k-1][h-1])\n",
    "#Place q values for each matching time and space position of matrix in an array.\n",
    "    qx=q.diagonal()\n",
    "#Generate x values for graph.\n",
    "    x=np.arange(0,diffx*m,diffx)\n",
    "#Plot model.\n",
    "    plt.plot(x,qx)\n",
    "    plt.xlabel('x')\n",
    "    plt.ylabel('q(x)')\n",
    "    plt.title('Advection Equation FTBS')\n",
    "    plt.show()\n",
    "    return\n",
    "drw([2,4,7,3,6,8],1,0.1,5)\n",
    "drw([20,0,0,0,0,0,0,0,0,0,0,0,0,0,0,0,0,0,0],1,0.1,5)"
   ]
  },
  {
   "cell_type": "code",
   "execution_count": 24,
   "metadata": {},
   "outputs": [
    {
     "data": {
      "text/plain": [
       "'Your Courant number is outside of the bounds for stability.'"
      ]
     },
     "execution_count": 24,
     "metadata": {},
     "output_type": "execute_result"
    }
   ],
   "source": [
    "def FTCS1(initial_array,diffx,difft,windspeed):\n",
    "    c=difft*windspeed/diffx\n",
    "    if c>1 or c<0:\n",
    "        q=\"Your Courant number is outside of the bounds for stability.\"\n",
    "    else:\n",
    "        m=len(initial_array)\n",
    "        q=np.zeros((m,m))\n",
    "        for i in range (0,m):\n",
    "            q[0][i]=initial_array[i]\n",
    "        for k in range (1,m-1):\n",
    "            for h in range (k,m-1):\n",
    "                q[k][h]=q[k-1][h]-(c/2)*(q[k-1][h+1]-q[k-1][h-1])\n",
    "    return q\n",
    "FTCS1([3,4,5,6],7,9,30)"
   ]
  },
  {
   "cell_type": "code",
   "execution_count": 25,
   "metadata": {},
   "outputs": [
    {
     "data": {
      "text/plain": [
       "array([[3.   , 4.   , 5.   , 6.   ],\n",
       "       [0.   , 3.7  , 4.7  , 0.   ],\n",
       "       [0.   , 0.   , 5.255, 0.   ],\n",
       "       [0.   , 0.   , 0.   , 0.   ]])"
      ]
     },
     "execution_count": 25,
     "metadata": {},
     "output_type": "execute_result"
    }
   ],
   "source": [
    "FTCS1([3,4,5,6],1,0.1,3)"
   ]
  },
  {
   "cell_type": "code",
   "execution_count": 12,
   "metadata": {},
   "outputs": [
    {
     "data": {
      "text/plain": [
       "array([[2.        , 0.        , 0.        , 0.        , 0.        ,\n",
       "        0.        ],\n",
       "       [0.        , 0.75      , 0.        , 0.        , 0.        ,\n",
       "        0.        ],\n",
       "       [0.        , 0.        , 0.28125   , 0.        , 0.        ,\n",
       "        0.        ],\n",
       "       [0.        , 0.        , 0.        , 0.10546875, 0.        ,\n",
       "        0.        ],\n",
       "       [0.        , 0.        , 0.        , 0.        , 0.03955078,\n",
       "        0.        ],\n",
       "       [0.        , 0.        , 0.        , 0.        , 0.        ,\n",
       "        0.        ]])"
      ]
     },
     "execution_count": 12,
     "metadata": {},
     "output_type": "execute_result"
    }
   ],
   "source": [
    "def LW(initial_array,diffx,difft,windspeed):\n",
    "    c=difft*windspeed/diffx\n",
    "    m=len(initial_array)\n",
    "    q=np.zeros((m,m))\n",
    "    for i in range (0,m):\n",
    "        q[0][i]=initial_array[i]\n",
    "    for k in range (1,m-1):\n",
    "        for h in range (k,m-1):\n",
    "            q[k][h]=q[k-1][h]-(c/2)*(q[k-1][h+1]-q[k-1][h-1])+(c**2/2)*(q[k-1][h+1]-2*q[k-1][h]+q[k-1][h-1])\n",
    "    return q\n",
    "LW([2,0,0,0,0,0],1,0.1,5)"
   ]
  },
  {
   "cell_type": "code",
   "execution_count": null,
   "metadata": {},
   "outputs": [],
   "source": []
  }
 ],
 "metadata": {
  "kernelspec": {
   "display_name": "Python 3",
   "language": "python",
   "name": "python3"
  },
  "language_info": {
   "codemirror_mode": {
    "name": "ipython",
    "version": 3
   },
   "file_extension": ".py",
   "mimetype": "text/x-python",
   "name": "python",
   "nbconvert_exporter": "python",
   "pygments_lexer": "ipython3",
   "version": "3.7.0"
  }
 },
 "nbformat": 4,
 "nbformat_minor": 2
}
